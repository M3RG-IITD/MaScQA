{
 "cells": [
  {
   "cell_type": "code",
   "execution_count": 1,
   "id": "5712dea4-0f18-4e48-bddd-068bce30cfb0",
   "metadata": {},
   "outputs": [],
   "source": [
    "# task :\n",
    "# Extract relevant questions from mascqa\n",
    "# generate questions using matkg"
   ]
  },
  {
   "cell_type": "code",
   "execution_count": 2,
   "id": "879b580a-f94f-4ae6-b8cf-6516e38fd04c",
   "metadata": {},
   "outputs": [],
   "source": [
    "# CHM - APL\n",
    "# CHM - CMT\n",
    "# "
   ]
  },
  {
   "cell_type": "code",
   "execution_count": null,
   "id": "9efbecf3-f7d7-4375-97fa-cd8ac821b571",
   "metadata": {},
   "outputs": [],
   "source": [
    "what properties-x of material-y are sutiable for application-z ?\n",
    "\n",
    "Which phases-x of material-y are sutiable for application-z ?\n",
    "\n",
    "Which processing method-x can be used to obtain material-y having property-z?"
   ]
  },
  {
   "cell_type": "code",
   "execution_count": 3,
   "id": "79871fec-8b69-43da-b751-c09d536df5d0",
   "metadata": {},
   "outputs": [],
   "source": [
    "import json"
   ]
  },
  {
   "cell_type": "code",
   "execution_count": 4,
   "id": "d954f943-7dcb-4a0a-917f-e1f1d1dc0aa1",
   "metadata": {},
   "outputs": [],
   "source": [
    "with open('../mascqa-eval.json','r') as f:\n",
    "    questions = json.load(f)\n",
    "f.close()"
   ]
  },
  {
   "cell_type": "code",
   "execution_count": 5,
   "id": "20c3287d-b53c-4cc2-a449-5d4790714115",
   "metadata": {},
   "outputs": [
    {
     "data": {
      "text/plain": [
       "dict_keys(['Thermodynamics', 'Atomic structure', 'Mechanical', 'Material manufacturing', 'Material Applications', 'Phase transition', 'Electrical', 'Material processing', 'Transport phenomena', 'Magnetism', 'Material characterization', 'Fluid', 'Material testing', 'Miscellaneous'])"
      ]
     },
     "execution_count": 5,
     "metadata": {},
     "output_type": "execute_result"
    }
   ],
   "source": [
    "questions.keys()"
   ]
  },
  {
   "cell_type": "code",
   "execution_count": 9,
   "id": "4a012187-ad68-4c47-84eb-e0f530627b53",
   "metadata": {},
   "outputs": [
    {
     "data": {
      "text/plain": [
       "dict_keys(['qids', 'qstr', 'num_words', 'questions'])"
      ]
     },
     "execution_count": 9,
     "metadata": {},
     "output_type": "execute_result"
    }
   ],
   "source": [
    "questions['Material Applications'].keys()"
   ]
  },
  {
   "cell_type": "code",
   "execution_count": 12,
   "id": "74457a35-79e0-4020-9177-f2871b2a5ed5",
   "metadata": {},
   "outputs": [],
   "source": [
    "# questions['Material Applications']['qstr']"
   ]
  },
  {
   "cell_type": "code",
   "execution_count": 14,
   "id": "36821573-926b-40fd-b526-de14968f1209",
   "metadata": {},
   "outputs": [],
   "source": [
    "import matplotlib.pyplot as plt"
   ]
  },
  {
   "cell_type": "code",
   "execution_count": 16,
   "id": "cb1d2994-b7b8-4935-9048-b7876dddaf45",
   "metadata": {},
   "outputs": [
    {
     "data": {
      "text/plain": [
       "(array([ 8., 12.,  6.,  3.,  3.,  7.,  5.,  5.,  2.,  2.]),\n",
       " array([14., 22., 30., 38., 46., 54., 62., 70., 78., 86., 94.]),\n",
       " <BarContainer object of 10 artists>)"
      ]
     },
     "execution_count": 16,
     "metadata": {},
     "output_type": "execute_result"
    },
    {
     "data": {
      "image/png": "[encoded data removed]",
      "text/plain": [
       "<Figure size 640x480 with 1 Axes>"
      ]
     },
     "metadata": {},
     "output_type": "display_data"
    }
   ],
   "source": [
    "nums = questions['Material Applications']['num_words']\n",
    "\n",
    "plt.hist(nums)\n",
    "         "
   ]
  },
  {
   "cell_type": "code",
   "execution_count": 18,
   "id": "ea968bb5-9606-414f-a783-e764a28063f1",
   "metadata": {},
   "outputs": [
    {
     "name": "stdout",
     "output_type": "stream",
     "text": [
      "3 Which one of the following metals is commonly alloyed with iron to improve its corrosion resistance?  (A) Co (B) Cr (C) Ti (D) Nb \n",
      "\n",
      "7 Nylon-6 is manufactured from  (A) caprolactum (B) adipic acid and hexamethylene diamine (C) maleic anhydride and hexamethylene diamine (D) sebasic acid and hexamethylene diamine \n",
      "\n",
      "8 The materials belonging to which one of the following crystal classes would be both piezoelectric and ferroelectric  (A) 222 (B) 4mm (C) -1 (D) 2/m \n",
      "\n",
      "9 Polymerized isotactic polybutadiene has a molecular weight of 3 x $10^5$ g/mol. The degree of polymerization is \n",
      "\n",
      "11 Given: ($M_(Ga)$ = 69.72 g/mol; $M_(As)$ = 74.92 g/mol). The weight in kg of gallium (Ga) to be mixed with arsenic (As) for obtaining 1.0 kg of gallium arsenide (GaAs) is \n",
      "\n",
      "13 To which of the following category of materials does Teflon (PTFE) belong?  (A) Thermosets (B) Thermoplastics (C) Elastomers (D) Block copolymers \n",
      "\n",
      "16 Defect-free single crystal alumina (sapphire) is  (A) opaque and white. (B) transparent. (C) translucent. (D) opaque and black. \n",
      "\n",
      "17 Which processing technique is best suited for manufacturing decorative PVC floor tiles?  (A) Blow molding (B) Filament winding(C) Rotational molding (D) Calendering \n",
      "\n",
      "21 Amino acids react to form peptides and proteins. This process is known as  (A) addition polymerization (B) nucleophilic substitution (C) condensation polymerization (D) hydration \n",
      "\n",
      "22 Which one of the following solvent environments will likely result in swelling of solid polystyrene?   (A) 0.1 M NaOH in $H_(2)O$ (B) HCl (aq.) of pH = 6 (C) Distilled water (D) Benzene  \n",
      "\n",
      "23 When a zinc metal rod is immersed in dilute hydrochloric acid, it results in  (A) Evolution of hydrogen (B) Evolution of chlorine (C) Evolution of oxygen (D) No evolution of any gas \n",
      "\n",
      "24 Copper can be reduced from acidic copper sulphate solution by  (A) Silver (B) Iron (C) Carbon (D) Lead \n",
      "\n",
      "26 The aperture size (in µm) of a 200 mesh sieve having a wire diameter of 53 µm is? \n",
      "\n",
      "27 Which one of the following is NOT an intensive property?  (A) Temperature (B) Pressure (C) Volume (D) Refractive index \n",
      "\n",
      "28 Which one of the following refers to the ability of a material to absorb energy when deformed elastically?  (A) Toughness (B) Fracture toughness (C) Resilience (D) Hardness \n",
      "\n",
      "31 Which of the following properties is intensive?  (A) Volume (B) Gibbs free energy (C) Chemical potential (D) Entropy \n",
      "\n",
      "34 In polymers such as epoxies, creep resistance can be enhanced by  (A) increasing the bulkiness of side groups. (B) increasing the cross-link density. (C) addition of plasticizers. (D) annealing \n",
      "\n",
      "39 The passive film in stainless steel forms above the  (A) Primary passive potential (B) Breakdown potential (C) Trans-passive potential (D) Pitting potential \n",
      "\n",
      "40 The chemical formula of wüstite is  (A) $FeS_2$ (B) $Fe_2O_3$ (C) $Fe_3O_4$ (D) $Fe_(1-x)O$  \n",
      "\n",
      "41 Primary mechanisms of accommodating plastic strain at low temepratures in crystalline metals are:  (A) twinning and dislocation-slip (B) dislocation-climb and dislocation-slip (C) dislocation-slip and diffusion (D) viscous-flow and dislocation-slip \n",
      "\n",
      "42 Both creep resitance and tensile strength of a metal can be enhanced by  (A) increase in the grain size (B) decrease in the grain size (C) addition of dispersoids (D) annealing \n",
      "\n",
      "43 Which one of the following manufacturing techniques is used for making window glass?  (A) Investment casting (B) Patenting (C) Spray forming (D) Float-bath method \n",
      "\n",
      "49 Single crystal turbine blades of nickel-based superalloys for aero-engines are manufactured using:  (A) Investment casting (B) Die casting (C) Squeeze casting (D) Directional solidification  \n",
      "\n",
      "50 Given: Atomic weights of carbon and hydrogen are 12 and 1, respectively. If the degree of polymerization of polyethylene is 30000, the average molecular weight( in g $mol^(-1)$) is?(round off to nearest integer) \n",
      "\n",
      "51 A sieve made of steel wire of diameter 53 µm has an aperture size of 74 µm. Its mesh number is? (round off to the nearest integer).  \n",
      "\n"
     ]
    }
   ],
   "source": [
    "qstr = questions['Material Applications']['qstr']\n",
    "ques = questions['Material Applications']['questions']\n",
    "nums = questions['Material Applications']['num_words']\n",
    "\n",
    "# for qtype, q in zip(qstr, ques):\n",
    "for i in range(len(nums)):\n",
    "    if nums[i] < 35:\n",
    "        print(i,ques[i],'\\n')"
   ]
  },
  {
   "cell_type": "code",
   "execution_count": 8,
   "id": "b12734bd-aabd-4e01-947d-ed571468ed2b",
   "metadata": {},
   "outputs": [
    {
     "data": {
      "text/plain": [
       "['MCQS',\n",
       " 'MATCH',\n",
       " 'MCQS-NUM',\n",
       " 'MCQS',\n",
       " 'MCQS',\n",
       " 'MATCH',\n",
       " 'MCQS',\n",
       " 'MCQS',\n",
       " 'MCQS',\n",
       " 'NUM',\n",
       " 'MATCH',\n",
       " 'NUM',\n",
       " 'MATCH',\n",
       " 'MCQS',\n",
       " 'NUM',\n",
       " 'MATCH',\n",
       " 'MCQS',\n",
       " 'MCQS',\n",
       " 'NUM',\n",
       " 'MATCH',\n",
       " 'NUM',\n",
       " 'MCQS',\n",
       " 'MCQS',\n",
       " 'MCQS',\n",
       " 'MCQS',\n",
       " 'MATCH',\n",
       " 'NUM',\n",
       " 'MCQS',\n",
       " 'MCQS',\n",
       " 'MCQS',\n",
       " 'MATCH',\n",
       " 'MCQS',\n",
       " 'MCQS',\n",
       " 'MCQS',\n",
       " 'MCQS',\n",
       " 'MATCH',\n",
       " 'MATCH',\n",
       " 'MATCH',\n",
       " 'MATCH',\n",
       " 'MCQS',\n",
       " 'MCQS',\n",
       " 'MCQS',\n",
       " 'MCQS',\n",
       " 'MCQS',\n",
       " 'MATCH',\n",
       " 'MCQS',\n",
       " 'MATCH',\n",
       " 'MATCH',\n",
       " 'MATCH',\n",
       " 'MCQS',\n",
       " 'NUM',\n",
       " 'NUM',\n",
       " 'NUM']"
      ]
     },
     "execution_count": 8,
     "metadata": {},
     "output_type": "execute_result"
    }
   ],
   "source": [
    "for q in questions['Material Applications']:\n",
    "    ['qstr']"
   ]
  },
  {
   "cell_type": "code",
   "execution_count": null,
   "id": "3b359449-7b27-4a13-8292-aba7ea8353a9",
   "metadata": {},
   "outputs": [],
   "source": []
  }
 ],
 "metadata": {
  "kernelspec": {
   "display_name": "Python 3 (ipykernel)",
   "language": "python",
   "name": "python3"
  },
  "language_info": {
   "codemirror_mode": {
    "name": "ipython",
    "version": 3
   },
   "file_extension": ".py",
   "mimetype": "text/x-python",
   "name": "python",
   "nbconvert_exporter": "python",
   "pygments_lexer": "ipython3",
   "version": "3.7.6"
  }
 },
 "nbformat": 4,
 "nbformat_minor": 5
}
